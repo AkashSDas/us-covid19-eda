{
 "cells": [
  {
   "cell_type": "markdown",
   "execution_count": null,
   "metadata": {},
   "source": [
    "# **🇺🇸US 🦠Covid19 EDA**\n",
    "\n",
    "---"
   ]
  },
  {
   "cell_type": "markdown",
   "execution_count": null,
   "metadata": {},
   "source": [
    "## **🛳 Getting packages**"
   ]
  },
  {
   "cell_type": "code",
   "execution_count": 1,
   "metadata": {
    "_cell_guid": "79c7e3d0-c299-4dcb-8224-4455121ee9b0",
    "_uuid": "d629ff2d2480ee46fbb7e2d37f6b5fab8052498a"
   },
   "outputs": [],
   "source": [
    "import numpy as np\n",
    "import pandas as pd\n",
    "import matplotlib.pyplot as plt\n",
    "import seaborn as sns"
   ]
  },
  {
   "cell_type": "markdown",
   "execution_count": null,
   "metadata": {},
   "source": [
    "### **🚚 Loading data**"
   ]
  },
  {
   "cell_type": "code",
   "execution_count": 2,
   "metadata": {},
   "outputs": [
    {
     "data": {
      "text/html": [
       "<div>\n",
       "<style scoped>\n",
       "    .dataframe tbody tr th:only-of-type {\n",
       "        vertical-align: middle;\n",
       "    }\n",
       "\n",
       "    .dataframe tbody tr th {\n",
       "        vertical-align: top;\n",
       "    }\n",
       "\n",
       "    .dataframe thead th {\n",
       "        text-align: right;\n",
       "    }\n",
       "</style>\n",
       "<table border=\"1\" class=\"dataframe\">\n",
       "  <thead>\n",
       "    <tr style=\"text-align: right;\">\n",
       "      <th></th>\n",
       "      <th>county</th>\n",
       "      <th>state</th>\n",
       "      <th>fips</th>\n",
       "      <th>cases</th>\n",
       "      <th>deaths</th>\n",
       "    </tr>\n",
       "    <tr>\n",
       "      <th>date</th>\n",
       "      <th></th>\n",
       "      <th></th>\n",
       "      <th></th>\n",
       "      <th></th>\n",
       "      <th></th>\n",
       "    </tr>\n",
       "  </thead>\n",
       "  <tbody>\n",
       "    <tr>\n",
       "      <th>2020-01-21</th>\n",
       "      <td>Snohomish</td>\n",
       "      <td>Washington</td>\n",
       "      <td>53061.0</td>\n",
       "      <td>1</td>\n",
       "      <td>0</td>\n",
       "    </tr>\n",
       "    <tr>\n",
       "      <th>2020-01-22</th>\n",
       "      <td>Snohomish</td>\n",
       "      <td>Washington</td>\n",
       "      <td>53061.0</td>\n",
       "      <td>1</td>\n",
       "      <td>0</td>\n",
       "    </tr>\n",
       "    <tr>\n",
       "      <th>2020-01-23</th>\n",
       "      <td>Snohomish</td>\n",
       "      <td>Washington</td>\n",
       "      <td>53061.0</td>\n",
       "      <td>1</td>\n",
       "      <td>0</td>\n",
       "    </tr>\n",
       "    <tr>\n",
       "      <th>2020-01-24</th>\n",
       "      <td>Cook</td>\n",
       "      <td>Illinois</td>\n",
       "      <td>17031.0</td>\n",
       "      <td>1</td>\n",
       "      <td>0</td>\n",
       "    </tr>\n",
       "    <tr>\n",
       "      <th>2020-01-24</th>\n",
       "      <td>Snohomish</td>\n",
       "      <td>Washington</td>\n",
       "      <td>53061.0</td>\n",
       "      <td>1</td>\n",
       "      <td>0</td>\n",
       "    </tr>\n",
       "  </tbody>\n",
       "</table>\n",
       "</div>"
      ],
      "text/plain": [
       "               county       state     fips  cases  deaths\n",
       "date                                                     \n",
       "2020-01-21  Snohomish  Washington  53061.0      1       0\n",
       "2020-01-22  Snohomish  Washington  53061.0      1       0\n",
       "2020-01-23  Snohomish  Washington  53061.0      1       0\n",
       "2020-01-24       Cook    Illinois  17031.0      1       0\n",
       "2020-01-24  Snohomish  Washington  53061.0      1       0"
      ]
     },
     "execution_count": 2,
     "metadata": {},
     "output_type": "execute_result"
    }
   ],
   "source": [
    "# Loading the data, parsing the dates & making date column as index column\n",
    "df = pd.read_csv('../input/us-counties-covid-19-dataset/us-counties.csv', parse_dates=['date'], index_col='date')\n",
    "df.head()"
   ]
  },
  {
   "cell_type": "code",
   "execution_count": 3,
   "metadata": {},
   "outputs": [
    {
     "name": "stdout",
     "output_type": "stream",
     "text": [
      "<class 'pandas.core.frame.DataFrame'>\n",
      "DatetimeIndex: 414948 entries, 2020-01-21 to 2020-08-08\n",
      "Data columns (total 5 columns):\n",
      " #   Column  Non-Null Count   Dtype  \n",
      "---  ------  --------------   -----  \n",
      " 0   county  414948 non-null  object \n",
      " 1   state   414948 non-null  object \n",
      " 2   fips    410811 non-null  float64\n",
      " 3   cases   414948 non-null  int64  \n",
      " 4   deaths  414948 non-null  int64  \n",
      "dtypes: float64(1), int64(2), object(2)\n",
      "memory usage: 19.0+ MB\n"
     ]
    }
   ],
   "source": [
    "# Checking for null values\n",
    "df.info()"
   ]
  },
  {
   "cell_type": "markdown",
   "execution_count": null,
   "metadata": {},
   "source": [
    "### **😎 Helper functions**"
   ]
  },
  {
   "cell_type": "code",
   "execution_count": 4,
   "metadata": {},
   "outputs": [],
   "source": [
    "def human_format(num):\n",
    "    num = float('{:.3g}'.format(num))\n",
    "    magnitude = 0\n",
    "    while abs(num) >= 1000:\n",
    "        magnitude += 1\n",
    "        num /= 1000.0\n",
    "    return '{}{}'.format('{:f}'.format(num).rstrip('0').rstrip('.'), ['', 'K', 'M', 'B', 'T'][magnitude])"
   ]
  },
  {
   "cell_type": "markdown",
   "execution_count": null,
   "metadata": {},
   "source": [
    "## **🔬 Analysis on the basis of states**"
   ]
  },
  {
   "cell_type": "code",
   "execution_count": 5,
   "metadata": {},
   "outputs": [
    {
     "name": "stdout",
     "output_type": "stream",
     "text": [
      "['Washington' 'Illinois' 'California' 'Arizona' 'Massachusetts'\n",
      " 'Wisconsin' 'Texas' 'Nebraska' 'Utah' 'Oregon' 'Florida' 'New York'\n",
      " 'Rhode Island' 'Georgia' 'New Hampshire' 'North Carolina' 'New Jersey'\n",
      " 'Colorado' 'Maryland' 'Nevada' 'Tennessee' 'Hawaii' 'Indiana' 'Kentucky'\n",
      " 'Minnesota' 'Oklahoma' 'Pennsylvania' 'South Carolina'\n",
      " 'District of Columbia' 'Kansas' 'Missouri' 'Vermont' 'Virginia'\n",
      " 'Connecticut' 'Iowa' 'Louisiana' 'Ohio' 'Michigan' 'South Dakota'\n",
      " 'Arkansas' 'Delaware' 'Mississippi' 'New Mexico' 'North Dakota' 'Wyoming'\n",
      " 'Alaska' 'Maine' 'Alabama' 'Idaho' 'Montana' 'Puerto Rico'\n",
      " 'Virgin Islands' 'Guam' 'West Virginia' 'Northern Mariana Islands']\n",
      "\n",
      "Number of unique states: 55\n"
     ]
    }
   ],
   "source": [
    "# Getting uniuqe states from state column \n",
    "unique_states = df.state.unique()\n",
    "\n",
    "print(unique_states)\n",
    "\n",
    "print()\n",
    "\n",
    "# Number of unique states\n",
    "print(f'Number of unique states: {len(unique_states)}')"
   ]
  },
  {
   "cell_type": "code",
   "execution_count": 6,
   "metadata": {},
   "outputs": [],
   "source": [
    "# Grouping data on the basis of states\n",
    "states_group = df.groupby(['state'])"
   ]
  },
  {
   "cell_type": "code",
   "execution_count": 7,
   "metadata": {},
   "outputs": [
    {
     "name": "stdout",
     "output_type": "stream",
     "text": [
      "Alabama\n",
      "                county    state    fips  cases  deaths\n",
      "date                                                  \n",
      "2020-03-13      Elmore  Alabama  1051.0      1       0\n",
      "2020-03-13   Jefferson  Alabama  1073.0      2       0\n",
      "2020-03-13   Limestone  Alabama  1083.0      1       0\n",
      "2020-03-13  Montgomery  Alabama  1101.0      1       0\n",
      "2020-03-13  Tuscaloosa  Alabama  1125.0      1       0\n",
      "...                ...      ...     ...    ...     ...\n",
      "2020-08-08  Tuscaloosa  Alabama  1125.0   4316      75\n",
      "2020-08-08      Walker  Alabama  1127.0   1555      67\n",
      "2020-08-08  Washington  Alabama  1129.0    393      12\n",
      "2020-08-08      Wilcox  Alabama  1131.0    442      10\n",
      "2020-08-08     Winston  Alabama  1133.0    466      11\n",
      "\n",
      "[9231 rows x 5 columns]\n"
     ]
    }
   ],
   "source": [
    "# Iterating through first item in states_group\n",
    "for state, state_df in states_group:\n",
    "    print(state)\n",
    "    print(state_df)\n",
    "    break"
   ]
  },
  {
   "cell_type": "markdown",
   "execution_count": null,
   "metadata": {},
   "source": [
    "### **🚄 Creating dataframe for states**"
   ]
  },
  {
   "cell_type": "code",
   "execution_count": 8,
   "metadata": {},
   "outputs": [],
   "source": [
    "# Structure of states_data dictornary\n",
    "# states_data = {\n",
    "#     'state_name': {\n",
    "#         'cases': 'total_num_of_cases',\n",
    "#         'deaths': 'total_num_of_deaths'\n",
    "#     }\n",
    "# }\n",
    "\n",
    "states_data = {}\n",
    "for state, state_df in states_group:\n",
    "    states_data[state] = {\n",
    "        'cases': state_df.cases.sum(),\n",
    "        'deaths': state_df.deaths.sum()\n",
    "    }"
   ]
  },
  {
   "cell_type": "code",
   "execution_count": 9,
   "metadata": {},
   "outputs": [
    {
     "data": {
      "text/html": [
       "<div>\n",
       "<style scoped>\n",
       "    .dataframe tbody tr th:only-of-type {\n",
       "        vertical-align: middle;\n",
       "    }\n",
       "\n",
       "    .dataframe tbody tr th {\n",
       "        vertical-align: top;\n",
       "    }\n",
       "\n",
       "    .dataframe thead th {\n",
       "        text-align: right;\n",
       "    }\n",
       "</style>\n",
       "<table border=\"1\" class=\"dataframe\">\n",
       "  <thead>\n",
       "    <tr style=\"text-align: right;\">\n",
       "      <th></th>\n",
       "      <th>cases</th>\n",
       "      <th>deaths</th>\n",
       "      <th>state</th>\n",
       "    </tr>\n",
       "  </thead>\n",
       "  <tbody>\n",
       "    <tr>\n",
       "      <th>Alabama</th>\n",
       "      <td>3978827</td>\n",
       "      <td>94085</td>\n",
       "      <td>Alabama</td>\n",
       "    </tr>\n",
       "    <tr>\n",
       "      <th>Alaska</th>\n",
       "      <td>145025</td>\n",
       "      <td>1394</td>\n",
       "      <td>Alaska</td>\n",
       "    </tr>\n",
       "    <tr>\n",
       "      <th>Arizona</th>\n",
       "      <td>7407855</td>\n",
       "      <td>173588</td>\n",
       "      <td>Arizona</td>\n",
       "    </tr>\n",
       "    <tr>\n",
       "      <th>Arkansas</th>\n",
       "      <td>1949348</td>\n",
       "      <td>24870</td>\n",
       "      <td>Arkansas</td>\n",
       "    </tr>\n",
       "    <tr>\n",
       "      <th>California</th>\n",
       "      <td>23960673</td>\n",
       "      <td>597315</td>\n",
       "      <td>California</td>\n",
       "    </tr>\n",
       "  </tbody>\n",
       "</table>\n",
       "</div>"
      ],
      "text/plain": [
       "               cases  deaths       state\n",
       "Alabama      3978827   94085     Alabama\n",
       "Alaska        145025    1394      Alaska\n",
       "Arizona      7407855  173588     Arizona\n",
       "Arkansas     1949348   24870    Arkansas\n",
       "California  23960673  597315  California"
      ]
     },
     "execution_count": 9,
     "metadata": {},
     "output_type": "execute_result"
    }
   ],
   "source": [
    "states_df = pd.DataFrame(states_data).transpose()\n",
    "states_df['state'] = states_df.index\n",
    "states_df.head()"
   ]
  },
  {
   "cell_type": "markdown",
   "execution_count": null,
   "metadata": {},
   "source": [
    "### **📊 Horizontal bar-chart for Cases & Deaths in states**"
   ]
  },
  {
   "cell_type": "code",
   "execution_count": 10,
   "metadata": {},
   "outputs": [
    {
     "data": {
      "text/plain": [
       "[Text(0, 0.5, 'States'), Text(0.5, 0, 'Cases & Deaths in states')]"
      ]
     },
     "execution_count": 10,
     "metadata": {},
     "output_type": "execute_result"
    },
    {
     "data": {
      "image/png": "[encoded data removed]",
      "text/plain": [
       "<Figure size 720x1080 with 1 Axes>"
      ]
     },
     "metadata": {
      "needs_background": "light"
     },
     "output_type": "display_data"
    }
   ],
   "source": [
    "f, ax = plt.subplots(figsize=(10, 15))\n",
    "\n",
    "sns.set_color_codes(\"pastel\")\n",
    "sns.barplot(x='cases', y='state', data=states_df, label=\"Total Cases\", color=\"b\")\n",
    "\n",
    "sns.set_color_codes(\"muted\")\n",
    "sns.barplot(x='deaths', y='state', data=states_df, label=\"Total Deaths\", color=\"b\")\n",
    "\n",
    "ax.set(ylabel=\"States\", xlabel=\"Cases & Deaths in states\")"
   ]
  },
  {
   "cell_type": "markdown",
   "execution_count": null,
   "metadata": {},
   "source": [
    "### **📈 Top 5 states on the basis of number of cases**"
   ]
  },
  {
   "cell_type": "code",
   "execution_count": 11,
   "metadata": {},
   "outputs": [
    {
     "name": "stdout",
     "output_type": "stream",
     "text": [
      "*** Top 5 states on the basis of number of cases *** \n",
      "\n",
      "--------------------\n",
      "New York | 45.4M\n",
      "--------------------\n",
      "California | 24M\n",
      "--------------------\n",
      "New Jersey | 18.8M\n",
      "--------------------\n",
      "Florida | 18.5M\n",
      "--------------------\n",
      "Texas | 18.4M\n"
     ]
    }
   ],
   "source": [
    "results = states_df.sort_values('cases', ascending=False).head(5)\n",
    "\n",
    "print('*** Top 5 states on the basis of number of cases *** \\n')\n",
    "for state in results.index:\n",
    "    print('-'*20)\n",
    "    print(f'{state} | {human_format(results.loc[state].cases)}')"
   ]
  },
  {
   "cell_type": "markdown",
   "execution_count": null,
   "metadata": {},
   "source": [
    "### **📉 Bottom 5 states on the basis of number of cases**"
   ]
  },
  {
   "cell_type": "code",
   "execution_count": 12,
   "metadata": {},
   "outputs": [
    {
     "name": "stdout",
     "output_type": "stream",
     "text": [
      "*** Bottom 5 states on the basis of number of cases *** \n",
      "\n",
      "--------------------\n",
      "Northern Mariana Islands | 3.28K\n",
      "--------------------\n",
      "Virgin Islands | 25.9K\n",
      "--------------------\n",
      "Hawaii | 121K\n",
      "--------------------\n",
      "Vermont | 138K\n",
      "--------------------\n",
      "Guam | 142K\n"
     ]
    }
   ],
   "source": [
    "results = states_df.sort_values('cases', ascending=True).head(5)\n",
    "\n",
    "print('*** Bottom 5 states on the basis of number of cases *** \\n')\n",
    "for state in results.index:\n",
    "    print('-'*20)\n",
    "    print(f'{state} | {human_format(results.loc[state].cases)}')"
   ]
  },
  {
   "cell_type": "markdown",
   "execution_count": null,
   "metadata": {},
   "source": [
    "### **📈 Top 5 states on the basis of number of deaths**"
   ]
  },
  {
   "cell_type": "code",
   "execution_count": 13,
   "metadata": {},
   "outputs": [
    {
     "name": "stdout",
     "output_type": "stream",
     "text": [
      "*** Top 5 states on the basis of number of deaths *** \n",
      "\n",
      "--------------------\n",
      "New York | 3.46M\n",
      "--------------------\n",
      "New Jersey | 1.41M\n",
      "--------------------\n",
      "Massachusetts | 772K\n",
      "--------------------\n",
      "Illinois | 646K\n",
      "--------------------\n",
      "Michigan | 637K\n"
     ]
    }
   ],
   "source": [
    "results = states_df.sort_values('deaths', ascending=False).head(5)\n",
    "\n",
    "print('*** Top 5 states on the basis of number of deaths *** \\n')\n",
    "for state in results.index:\n",
    "    print('-'*20)\n",
    "    print(f'{state} | {human_format(results.loc[state].deaths)}')"
   ]
  },
  {
   "cell_type": "markdown",
   "execution_count": null,
   "metadata": {},
   "source": [
    "### **📉 Bottom 5 states on the basis of number of deaths**"
   ]
  },
  {
   "cell_type": "code",
   "execution_count": 14,
   "metadata": {},
   "outputs": [
    {
     "name": "stdout",
     "output_type": "stream",
     "text": [
      "*** Bottom 5 states on the basis of number of deaths *** \n",
      "\n",
      "--------------------\n",
      "Northern Mariana Islands | 254\n",
      "--------------------\n",
      "Virgin Islands | 669\n",
      "--------------------\n",
      "Guam | 767\n",
      "--------------------\n",
      "Alaska | 1.39K\n",
      "--------------------\n",
      "Wyoming | 1.86K\n"
     ]
    }
   ],
   "source": [
    "results = states_df.sort_values('deaths', ascending=True).head(5)\n",
    "\n",
    "print('*** Bottom 5 states on the basis of number of deaths *** \\n')\n",
    "for state in results.index:\n",
    "    print('-'*20)\n",
    "    print(f'{state} | {human_format(results.loc[state].deaths)}')"
   ]
  },
  {
   "cell_type": "markdown",
   "execution_count": null,
   "metadata": {},
   "source": [
    "### **State with maximum cases**"
   ]
  },
  {
   "cell_type": "code",
   "execution_count": 15,
   "metadata": {},
   "outputs": [
    {
     "data": {
      "text/html": [
       "<div>\n",
       "<style scoped>\n",
       "    .dataframe tbody tr th:only-of-type {\n",
       "        vertical-align: middle;\n",
       "    }\n",
       "\n",
       "    .dataframe tbody tr th {\n",
       "        vertical-align: top;\n",
       "    }\n",
       "\n",
       "    .dataframe thead th {\n",
       "        text-align: right;\n",
       "    }\n",
       "</style>\n",
       "<table border=\"1\" class=\"dataframe\">\n",
       "  <thead>\n",
       "    <tr style=\"text-align: right;\">\n",
       "      <th></th>\n",
       "      <th>cases</th>\n",
       "      <th>deaths</th>\n",
       "      <th>state</th>\n",
       "    </tr>\n",
       "  </thead>\n",
       "  <tbody>\n",
       "    <tr>\n",
       "      <th>New York</th>\n",
       "      <td>45372832</td>\n",
       "      <td>3460233</td>\n",
       "      <td>New York</td>\n",
       "    </tr>\n",
       "  </tbody>\n",
       "</table>\n",
       "</div>"
      ],
      "text/plain": [
       "             cases   deaths     state\n",
       "New York  45372832  3460233  New York"
      ]
     },
     "execution_count": 15,
     "metadata": {},
     "output_type": "execute_result"
    }
   ],
   "source": [
    "states_df[states_df.cases == states_df.cases.max()]"
   ]
  },
  {
   "cell_type": "markdown",
   "execution_count": null,
   "metadata": {},
   "source": [
    "### **State with maximum deaths**"
   ]
  },
  {
   "cell_type": "code",
   "execution_count": 16,
   "metadata": {},
   "outputs": [
    {
     "data": {
      "text/html": [
       "<div>\n",
       "<style scoped>\n",
       "    .dataframe tbody tr th:only-of-type {\n",
       "        vertical-align: middle;\n",
       "    }\n",
       "\n",
       "    .dataframe tbody tr th {\n",
       "        vertical-align: top;\n",
       "    }\n",
       "\n",
       "    .dataframe thead th {\n",
       "        text-align: right;\n",
       "    }\n",
       "</style>\n",
       "<table border=\"1\" class=\"dataframe\">\n",
       "  <thead>\n",
       "    <tr style=\"text-align: right;\">\n",
       "      <th></th>\n",
       "      <th>cases</th>\n",
       "      <th>deaths</th>\n",
       "      <th>state</th>\n",
       "    </tr>\n",
       "  </thead>\n",
       "  <tbody>\n",
       "    <tr>\n",
       "      <th>New York</th>\n",
       "      <td>45372832</td>\n",
       "      <td>3460233</td>\n",
       "      <td>New York</td>\n",
       "    </tr>\n",
       "  </tbody>\n",
       "</table>\n",
       "</div>"
      ],
      "text/plain": [
       "             cases   deaths     state\n",
       "New York  45372832  3460233  New York"
      ]
     },
     "execution_count": 16,
     "metadata": {},
     "output_type": "execute_result"
    }
   ],
   "source": [
    "states_df[states_df.deaths == states_df.deaths.max()]"
   ]
  },
  {
   "cell_type": "markdown",
   "execution_count": null,
   "metadata": {},
   "source": [
    "### **Deaths/Cases Ratio (Combining all states)**"
   ]
  },
  {
   "cell_type": "code",
   "execution_count": 17,
   "metadata": {},
   "outputs": [
    {
     "data": {
      "text/plain": [
       "'Deaths to Cases ratio: 4.533%'"
      ]
     },
     "execution_count": 17,
     "metadata": {},
     "output_type": "execute_result"
    }
   ],
   "source": [
    "ratio = round(states_df.deaths.sum() / states_df.cases.sum() * 100, 3)\n",
    "f'Deaths to Cases ratio: {ratio}%'"
   ]
  },
  {
   "cell_type": "markdown",
   "execution_count": null,
   "metadata": {},
   "source": [
    "## **📝 Analysis of New York state**"
   ]
  },
  {
   "cell_type": "code",
   "execution_count": 18,
   "metadata": {},
   "outputs": [
    {
     "data": {
      "text/html": [
       "<div>\n",
       "<style scoped>\n",
       "    .dataframe tbody tr th:only-of-type {\n",
       "        vertical-align: middle;\n",
       "    }\n",
       "\n",
       "    .dataframe tbody tr th {\n",
       "        vertical-align: top;\n",
       "    }\n",
       "\n",
       "    .dataframe thead th {\n",
       "        text-align: right;\n",
       "    }\n",
       "</style>\n",
       "<table border=\"1\" class=\"dataframe\">\n",
       "  <thead>\n",
       "    <tr style=\"text-align: right;\">\n",
       "      <th></th>\n",
       "      <th>county</th>\n",
       "      <th>state</th>\n",
       "      <th>fips</th>\n",
       "      <th>cases</th>\n",
       "      <th>deaths</th>\n",
       "    </tr>\n",
       "    <tr>\n",
       "      <th>date</th>\n",
       "      <th></th>\n",
       "      <th></th>\n",
       "      <th></th>\n",
       "      <th></th>\n",
       "      <th></th>\n",
       "    </tr>\n",
       "  </thead>\n",
       "  <tbody>\n",
       "    <tr>\n",
       "      <th>2020-03-01</th>\n",
       "      <td>New York City</td>\n",
       "      <td>New York</td>\n",
       "      <td>NaN</td>\n",
       "      <td>1</td>\n",
       "      <td>0</td>\n",
       "    </tr>\n",
       "    <tr>\n",
       "      <th>2020-03-02</th>\n",
       "      <td>New York City</td>\n",
       "      <td>New York</td>\n",
       "      <td>NaN</td>\n",
       "      <td>1</td>\n",
       "      <td>0</td>\n",
       "    </tr>\n",
       "    <tr>\n",
       "      <th>2020-03-03</th>\n",
       "      <td>New York City</td>\n",
       "      <td>New York</td>\n",
       "      <td>NaN</td>\n",
       "      <td>2</td>\n",
       "      <td>0</td>\n",
       "    </tr>\n",
       "    <tr>\n",
       "      <th>2020-03-04</th>\n",
       "      <td>New York City</td>\n",
       "      <td>New York</td>\n",
       "      <td>NaN</td>\n",
       "      <td>2</td>\n",
       "      <td>0</td>\n",
       "    </tr>\n",
       "    <tr>\n",
       "      <th>2020-03-04</th>\n",
       "      <td>Westchester</td>\n",
       "      <td>New York</td>\n",
       "      <td>36119.0</td>\n",
       "      <td>9</td>\n",
       "      <td>0</td>\n",
       "    </tr>\n",
       "  </tbody>\n",
       "</table>\n",
       "</div>"
      ],
      "text/plain": [
       "                   county     state     fips  cases  deaths\n",
       "date                                                       \n",
       "2020-03-01  New York City  New York      NaN      1       0\n",
       "2020-03-02  New York City  New York      NaN      1       0\n",
       "2020-03-03  New York City  New York      NaN      2       0\n",
       "2020-03-04  New York City  New York      NaN      2       0\n",
       "2020-03-04    Westchester  New York  36119.0      9       0"
      ]
     },
     "execution_count": 18,
     "metadata": {},
     "output_type": "execute_result"
    }
   ],
   "source": [
    "# Getting New York state dataframe from states_group\n",
    "for state, state_df in states_group:\n",
    "    if state == 'New York':\n",
    "        ny_df = pd.DataFrame(state_df)\n",
    "        \n",
    "ny_df.head()"
   ]
  },
  {
   "cell_type": "markdown",
   "execution_count": null,
   "metadata": {},
   "source": [
    "### **⏳ Doing Time Series Analysis**"
   ]
  },
  {
   "cell_type": "code",
   "execution_count": 19,
   "metadata": {},
   "outputs": [],
   "source": [
    "# Grouping ny_df on the basis of date\n",
    "ny_grp_by_dates = ny_df.groupby(['date'])"
   ]
  },
  {
   "cell_type": "code",
   "execution_count": 20,
   "metadata": {},
   "outputs": [],
   "source": [
    "# Structure of ny_data dictornary\n",
    "# ny_data = {\n",
    "#     'date': {\n",
    "#         'county': 'county_name',\n",
    "#         'cases': 'total_num_of_cases_on_that_date'\n",
    "#         'deaths': 'total_num_of_deaths_on_that_date'\n",
    "#     }\n",
    "# }\n",
    "\n",
    "ny_data = {}\n",
    "for date, date_df in ny_grp_by_dates:\n",
    "    ny_data[date] = {\n",
    "        'county': date_df.county.unique()[0],\n",
    "        'cases': date_df.cases.sum(),\n",
    "        'deaths': date_df.deaths.sum()\n",
    "    }"
   ]
  },
  {
   "cell_type": "code",
   "execution_count": 21,
   "metadata": {},
   "outputs": [
    {
     "data": {
      "text/html": [
       "<div>\n",
       "<style scoped>\n",
       "    .dataframe tbody tr th:only-of-type {\n",
       "        vertical-align: middle;\n",
       "    }\n",
       "\n",
       "    .dataframe tbody tr th {\n",
       "        vertical-align: top;\n",
       "    }\n",
       "\n",
       "    .dataframe thead th {\n",
       "        text-align: right;\n",
       "    }\n",
       "</style>\n",
       "<table border=\"1\" class=\"dataframe\">\n",
       "  <thead>\n",
       "    <tr style=\"text-align: right;\">\n",
       "      <th></th>\n",
       "      <th>county</th>\n",
       "      <th>cases</th>\n",
       "      <th>deaths</th>\n",
       "      <th>date</th>\n",
       "    </tr>\n",
       "  </thead>\n",
       "  <tbody>\n",
       "    <tr>\n",
       "      <th>2020-03-01</th>\n",
       "      <td>New York City</td>\n",
       "      <td>1</td>\n",
       "      <td>0</td>\n",
       "      <td>2020-03-01</td>\n",
       "    </tr>\n",
       "    <tr>\n",
       "      <th>2020-03-02</th>\n",
       "      <td>New York City</td>\n",
       "      <td>1</td>\n",
       "      <td>0</td>\n",
       "      <td>2020-03-02</td>\n",
       "    </tr>\n",
       "    <tr>\n",
       "      <th>2020-03-03</th>\n",
       "      <td>New York City</td>\n",
       "      <td>2</td>\n",
       "      <td>0</td>\n",
       "      <td>2020-03-03</td>\n",
       "    </tr>\n",
       "    <tr>\n",
       "      <th>2020-03-04</th>\n",
       "      <td>New York City</td>\n",
       "      <td>11</td>\n",
       "      <td>0</td>\n",
       "      <td>2020-03-04</td>\n",
       "    </tr>\n",
       "    <tr>\n",
       "      <th>2020-03-05</th>\n",
       "      <td>Nassau</td>\n",
       "      <td>22</td>\n",
       "      <td>0</td>\n",
       "      <td>2020-03-05</td>\n",
       "    </tr>\n",
       "  </tbody>\n",
       "</table>\n",
       "</div>"
      ],
      "text/plain": [
       "                   county cases deaths       date\n",
       "2020-03-01  New York City     1      0 2020-03-01\n",
       "2020-03-02  New York City     1      0 2020-03-02\n",
       "2020-03-03  New York City     2      0 2020-03-03\n",
       "2020-03-04  New York City    11      0 2020-03-04\n",
       "2020-03-05         Nassau    22      0 2020-03-05"
      ]
     },
     "execution_count": 21,
     "metadata": {},
     "output_type": "execute_result"
    }
   ],
   "source": [
    "ny_df = pd.DataFrame(ny_data).transpose()\n",
    "ny_df['date'] = ny_df.index\n",
    "ny_df.head()"
   ]
  },
  {
   "cell_type": "code",
   "execution_count": 22,
   "metadata": {},
   "outputs": [
    {
     "data": {
      "text/html": [
       "<div>\n",
       "<style scoped>\n",
       "    .dataframe tbody tr th:only-of-type {\n",
       "        vertical-align: middle;\n",
       "    }\n",
       "\n",
       "    .dataframe tbody tr th {\n",
       "        vertical-align: top;\n",
       "    }\n",
       "\n",
       "    .dataframe thead th {\n",
       "        text-align: right;\n",
       "    }\n",
       "</style>\n",
       "<table border=\"1\" class=\"dataframe\">\n",
       "  <thead>\n",
       "    <tr style=\"text-align: right;\">\n",
       "      <th></th>\n",
       "      <th>county</th>\n",
       "      <th>cases</th>\n",
       "      <th>deaths</th>\n",
       "      <th>date</th>\n",
       "    </tr>\n",
       "  </thead>\n",
       "  <tbody>\n",
       "    <tr>\n",
       "      <th>2020-08-04</th>\n",
       "      <td>Albany</td>\n",
       "      <td>422296</td>\n",
       "      <td>32422</td>\n",
       "      <td>2020-08-04</td>\n",
       "    </tr>\n",
       "    <tr>\n",
       "      <th>2020-08-05</th>\n",
       "      <td>Albany</td>\n",
       "      <td>422935</td>\n",
       "      <td>32431</td>\n",
       "      <td>2020-08-05</td>\n",
       "    </tr>\n",
       "    <tr>\n",
       "      <th>2020-08-06</th>\n",
       "      <td>Albany</td>\n",
       "      <td>423629</td>\n",
       "      <td>32329</td>\n",
       "      <td>2020-08-06</td>\n",
       "    </tr>\n",
       "    <tr>\n",
       "      <th>2020-08-07</th>\n",
       "      <td>Albany</td>\n",
       "      <td>424349</td>\n",
       "      <td>32336</td>\n",
       "      <td>2020-08-07</td>\n",
       "    </tr>\n",
       "    <tr>\n",
       "      <th>2020-08-08</th>\n",
       "      <td>Albany</td>\n",
       "      <td>425055</td>\n",
       "      <td>32345</td>\n",
       "      <td>2020-08-08</td>\n",
       "    </tr>\n",
       "  </tbody>\n",
       "</table>\n",
       "</div>"
      ],
      "text/plain": [
       "            county   cases deaths       date\n",
       "2020-08-04  Albany  422296  32422 2020-08-04\n",
       "2020-08-05  Albany  422935  32431 2020-08-05\n",
       "2020-08-06  Albany  423629  32329 2020-08-06\n",
       "2020-08-07  Albany  424349  32336 2020-08-07\n",
       "2020-08-08  Albany  425055  32345 2020-08-08"
      ]
     },
     "execution_count": 22,
     "metadata": {},
     "output_type": "execute_result"
    }
   ],
   "source": [
    "ny_df.tail()"
   ]
  },
  {
   "cell_type": "markdown",
   "execution_count": null,
   "metadata": {},
   "source": [
    "### **🗓 Dates: 01 March 2020 to 08 August 2020**"
   ]
  },
  {
   "cell_type": "code",
   "execution_count": 23,
   "metadata": {},
   "outputs": [],
   "source": [
    "# Converting cases & deaths dtype to int for plotting charts\n",
    "ny_df.cases = ny_df.cases.astype(int)\n",
    "ny_df.deaths = ny_df.deaths.astype(int)"
   ]
  },
  {
   "cell_type": "markdown",
   "execution_count": null,
   "metadata": {},
   "source": [
    "### **Average of weekly cases in New York**"
   ]
  },
  {
   "cell_type": "code",
   "execution_count": 24,
   "metadata": {},
   "outputs": [
    {
     "data": {
      "text/plain": [
       "Text(0, 0.5, 'Cases')"
      ]
     },
     "execution_count": 24,
     "metadata": {},
     "output_type": "execute_result"
    },
    {
     "data": {
      "image/png": "[encoded data removed]",
      "text/plain": [
       "<Figure size 864x288 with 1 Axes>"
      ]
     },
     "metadata": {
      "needs_background": "light"
     },
     "output_type": "display_data"
    }
   ],
   "source": [
    "fig = plt.figure(figsize=(12, 4))\n",
    "\n",
    "# Resampling cases on 'Weekly' frequency & then taking its average\n",
    "ny_df.cases.resample('W').mean().plot(colormap=plt.cm.RdYlGn, grid=False)\n",
    "plt.xlabel('Average of weekly cases in New York')\n",
    "plt.ylabel('Cases')"
   ]
  },
  {
   "cell_type": "markdown",
   "execution_count": null,
   "metadata": {},
   "source": [
    "### **Average of weekly deaths in New York**"
   ]
  },
  {
   "cell_type": "code",
   "execution_count": 25,
   "metadata": {},
   "outputs": [
    {
     "data": {
      "text/plain": [
       "Text(0, 0.5, 'Deaths')"
      ]
     },
     "execution_count": 25,
     "metadata": {},
     "output_type": "execute_result"
    },
    {
     "data": {
      "image/png": "[encoded data removed]",
      "text/plain": [
       "<Figure size 864x288 with 1 Axes>"
      ]
     },
     "metadata": {
      "needs_background": "light"
     },
     "output_type": "display_data"
    }
   ],
   "source": [
    "fig = plt.figure(figsize=(12, 4))\n",
    "\n",
    "# Resampling deaths on 'Weekly' frequency & then taking its average\n",
    "ny_df.deaths.resample('W').mean().plot(colormap=plt.cm.cividis, grid=False)\n",
    "plt.xlabel('Average of weekly deaths in New York')\n",
    "plt.ylabel('Deaths')"
   ]
  },
  {
   "cell_type": "markdown",
   "execution_count": null,
   "metadata": {},
   "source": [
    "### **Deaths/Cases Ratio (in New York)**"
   ]
  },
  {
   "cell_type": "code",
   "execution_count": 26,
   "metadata": {},
   "outputs": [
    {
     "data": {
      "text/plain": [
       "'Deaths to Cases ratio: 7.626%'"
      ]
     },
     "execution_count": 26,
     "metadata": {},
     "output_type": "execute_result"
    }
   ],
   "source": [
    "ratio = round(ny_df.deaths.sum() / ny_df.cases.sum() * 100, 3)\n",
    "f'Deaths to Cases ratio: {ratio}%'"
   ]
  },
  {
   "cell_type": "markdown",
   "execution_count": null,
   "metadata": {},
   "source": [
    "## **🔭 Analysis on the basis of counties**"
   ]
  },
  {
   "cell_type": "code",
   "execution_count": 27,
   "metadata": {},
   "outputs": [],
   "source": [
    "# Grouping on the basis of counties\n",
    "counties_group = df.groupby(['county'])"
   ]
  },
  {
   "cell_type": "code",
   "execution_count": 28,
   "metadata": {},
   "outputs": [
    {
     "name": "stdout",
     "output_type": "stream",
     "text": [
      "Abbeville\n",
      "               county           state     fips  cases  deaths\n",
      "date                                                         \n",
      "2020-03-19  Abbeville  South Carolina  45001.0      1       0\n",
      "2020-03-20  Abbeville  South Carolina  45001.0      1       0\n",
      "2020-03-21  Abbeville  South Carolina  45001.0      1       0\n",
      "2020-03-22  Abbeville  South Carolina  45001.0      1       0\n",
      "2020-03-23  Abbeville  South Carolina  45001.0      1       0\n",
      "...               ...             ...      ...    ...     ...\n",
      "2020-08-04  Abbeville  South Carolina  45001.0    301       8\n",
      "2020-08-05  Abbeville  South Carolina  45001.0    304       8\n",
      "2020-08-06  Abbeville  South Carolina  45001.0    313       8\n",
      "2020-08-07  Abbeville  South Carolina  45001.0    321       8\n",
      "2020-08-08  Abbeville  South Carolina  45001.0    325       8\n",
      "\n",
      "[143 rows x 5 columns]\n"
     ]
    }
   ],
   "source": [
    "# Iterating through first item in counties_group\n",
    "for county, county_df in counties_group:\n",
    "    print(county)\n",
    "    print(county_df)\n",
    "    break"
   ]
  },
  {
   "cell_type": "code",
   "execution_count": 29,
   "metadata": {},
   "outputs": [],
   "source": [
    "# Structure of county_data\n",
    "# county_data = {\n",
    "#     'county_name': {\n",
    "#         'cases': 'total_cases_in_that_county',\n",
    "#         'deaths': 'total_deaths_in_that_county'\n",
    "#     }\n",
    "# }\n",
    "\n",
    "county_data = {}\n",
    "for county, county_df in counties_group:\n",
    "    county_data[county] = {\n",
    "        'cases': county_df.cases.sum(),\n",
    "        'deaths': county_df.deaths.sum()\n",
    "    }"
   ]
  },
  {
   "cell_type": "code",
   "execution_count": 30,
   "metadata": {},
   "outputs": [
    {
     "data": {
      "text/html": [
       "<div>\n",
       "<style scoped>\n",
       "    .dataframe tbody tr th:only-of-type {\n",
       "        vertical-align: middle;\n",
       "    }\n",
       "\n",
       "    .dataframe tbody tr th {\n",
       "        vertical-align: top;\n",
       "    }\n",
       "\n",
       "    .dataframe thead th {\n",
       "        text-align: right;\n",
       "    }\n",
       "</style>\n",
       "<table border=\"1\" class=\"dataframe\">\n",
       "  <thead>\n",
       "    <tr style=\"text-align: right;\">\n",
       "      <th></th>\n",
       "      <th>cases</th>\n",
       "      <th>deaths</th>\n",
       "      <th>county</th>\n",
       "    </tr>\n",
       "  </thead>\n",
       "  <tbody>\n",
       "    <tr>\n",
       "      <th>Abbeville</th>\n",
       "      <td>12128</td>\n",
       "      <td>126</td>\n",
       "      <td>Abbeville</td>\n",
       "    </tr>\n",
       "    <tr>\n",
       "      <th>Acadia</th>\n",
       "      <td>98064</td>\n",
       "      <td>3714</td>\n",
       "      <td>Acadia</td>\n",
       "    </tr>\n",
       "    <tr>\n",
       "      <th>Accomack</th>\n",
       "      <td>92334</td>\n",
       "      <td>1277</td>\n",
       "      <td>Accomack</td>\n",
       "    </tr>\n",
       "    <tr>\n",
       "      <th>Ada</th>\n",
       "      <td>300058</td>\n",
       "      <td>3210</td>\n",
       "      <td>Ada</td>\n",
       "    </tr>\n",
       "    <tr>\n",
       "      <th>Adair</th>\n",
       "      <td>37828</td>\n",
       "      <td>2335</td>\n",
       "      <td>Adair</td>\n",
       "    </tr>\n",
       "  </tbody>\n",
       "</table>\n",
       "</div>"
      ],
      "text/plain": [
       "            cases  deaths     county\n",
       "Abbeville   12128     126  Abbeville\n",
       "Acadia      98064    3714     Acadia\n",
       "Accomack    92334    1277   Accomack\n",
       "Ada        300058    3210        Ada\n",
       "Adair       37828    2335      Adair"
      ]
     },
     "execution_count": 30,
     "metadata": {},
     "output_type": "execute_result"
    }
   ],
   "source": [
    "counties_df = pd.DataFrame(county_data).transpose()\n",
    "counties_df['county'] = counties_df.index\n",
    "counties_df.head()"
   ]
  },
  {
   "cell_type": "markdown",
   "execution_count": null,
   "metadata": {},
   "source": [
    "### **📈 Top 5 counties on the basis of number of cases**"
   ]
  },
  {
   "cell_type": "code",
   "execution_count": 31,
   "metadata": {},
   "outputs": [
    {
     "name": "stdout",
     "output_type": "stream",
     "text": [
      "*** Top 5 counties on the basis of number of cases *** \n",
      "\n",
      "--------------------\n",
      "New York City | 25.1M\n",
      "--------------------\n",
      "Los Angeles | 9.96M\n",
      "--------------------\n",
      "Cook | 8.92M\n",
      "--------------------\n",
      "Suffolk | 6.86M\n",
      "--------------------\n",
      "Nassau | 4.95M\n"
     ]
    }
   ],
   "source": [
    "results = counties_df.sort_values('cases', ascending=False).head(5)\n",
    "\n",
    "print('*** Top 5 counties on the basis of number of cases *** \\n')\n",
    "for county in results.index:\n",
    "    print('-'*20)\n",
    "    print(f'{county} | {human_format(results.loc[county].cases)}')"
   ]
  },
  {
   "cell_type": "markdown",
   "execution_count": null,
   "metadata": {},
   "source": [
    "### **📉 Bottom 5 counties on the basis of number of cases**"
   ]
  },
  {
   "cell_type": "code",
   "execution_count": 32,
   "metadata": {},
   "outputs": [
    {
     "name": "stdout",
     "output_type": "stream",
     "text": [
      "*** Bottom 5 counties on the basis of number of cases *** \n",
      "\n",
      "--------------------\n",
      "Arthur | 3\n",
      "--------------------\n",
      "Powder River | 17\n",
      "--------------------\n",
      "Lake of the Woods | 17\n",
      "--------------------\n",
      "Dundy | 20\n",
      "--------------------\n",
      "Yakutat City and Borough | 24\n"
     ]
    }
   ],
   "source": [
    "results = counties_df.sort_values('cases', ascending=True).head(5)\n",
    "\n",
    "print('*** Bottom 5 counties on the basis of number of cases *** \\n')\n",
    "for county in results.index:\n",
    "    print('-'*20)\n",
    "    print(f'{county} | {human_format(results.loc[county].cases)}')"
   ]
  },
  {
   "cell_type": "markdown",
   "execution_count": null,
   "metadata": {},
   "source": [
    "### **📈 Top 5 counties on the basis of number of deaths**"
   ]
  },
  {
   "cell_type": "code",
   "execution_count": 33,
   "metadata": {},
   "outputs": [
    {
     "name": "stdout",
     "output_type": "stream",
     "text": [
      "*** Top 5 counties on the basis of number of deaths *** \n",
      "\n",
      "--------------------\n",
      "New York City | 2.49M\n",
      "--------------------\n",
      "Cook | 420K\n",
      "--------------------\n",
      "Los Angeles | 319K\n",
      "--------------------\n",
      "Middlesex | 318K\n",
      "--------------------\n",
      "Suffolk | 311K\n"
     ]
    }
   ],
   "source": [
    "results = counties_df.sort_values('deaths', ascending=False).head(5)\n",
    "\n",
    "print('*** Top 5 counties on the basis of number of deaths *** \\n')\n",
    "for county in results.index:\n",
    "    print('-'*20)\n",
    "    print(f'{county} | {human_format(results.loc[county].deaths)}')"
   ]
  },
  {
   "cell_type": "markdown",
   "execution_count": null,
   "metadata": {},
   "source": [
    "### **📉 Bottom 5 counties on the basis of number of deaths**"
   ]
  },
  {
   "cell_type": "code",
   "execution_count": 34,
   "metadata": {},
   "outputs": [
    {
     "name": "stdout",
     "output_type": "stream",
     "text": [
      "*** Bottom 5 counties on the basis of number of deaths *** \n",
      "\n",
      "--------------------\n",
      "Arthur | 0\n",
      "--------------------\n",
      "Powder River | 0\n",
      "--------------------\n",
      "Lake of the Woods | 0\n",
      "--------------------\n",
      "Dundy | 0\n",
      "--------------------\n",
      "Yakutat City and Borough | 0\n"
     ]
    }
   ],
   "source": [
    "results = counties_df.sort_values('cases', ascending=True).head(5)\n",
    "\n",
    "print('*** Bottom 5 counties on the basis of number of deaths *** \\n')\n",
    "for county in results.index:\n",
    "    print('-'*20)\n",
    "    print(f'{county} | {human_format(results.loc[county].deaths)}')"
   ]
  },
  {
   "cell_type": "markdown",
   "execution_count": null,
   "metadata": {},
   "source": [
    "## **📝 Analysis of New York City**"
   ]
  },
  {
   "cell_type": "code",
   "execution_count": 35,
   "metadata": {},
   "outputs": [
    {
     "data": {
      "text/html": [
       "<div>\n",
       "<style scoped>\n",
       "    .dataframe tbody tr th:only-of-type {\n",
       "        vertical-align: middle;\n",
       "    }\n",
       "\n",
       "    .dataframe tbody tr th {\n",
       "        vertical-align: top;\n",
       "    }\n",
       "\n",
       "    .dataframe thead th {\n",
       "        text-align: right;\n",
       "    }\n",
       "</style>\n",
       "<table border=\"1\" class=\"dataframe\">\n",
       "  <thead>\n",
       "    <tr style=\"text-align: right;\">\n",
       "      <th></th>\n",
       "      <th>county</th>\n",
       "      <th>state</th>\n",
       "      <th>fips</th>\n",
       "      <th>cases</th>\n",
       "      <th>deaths</th>\n",
       "    </tr>\n",
       "    <tr>\n",
       "      <th>date</th>\n",
       "      <th></th>\n",
       "      <th></th>\n",
       "      <th></th>\n",
       "      <th></th>\n",
       "      <th></th>\n",
       "    </tr>\n",
       "  </thead>\n",
       "  <tbody>\n",
       "    <tr>\n",
       "      <th>2020-03-01</th>\n",
       "      <td>New York City</td>\n",
       "      <td>New York</td>\n",
       "      <td>NaN</td>\n",
       "      <td>1</td>\n",
       "      <td>0</td>\n",
       "    </tr>\n",
       "    <tr>\n",
       "      <th>2020-03-02</th>\n",
       "      <td>New York City</td>\n",
       "      <td>New York</td>\n",
       "      <td>NaN</td>\n",
       "      <td>1</td>\n",
       "      <td>0</td>\n",
       "    </tr>\n",
       "    <tr>\n",
       "      <th>2020-03-03</th>\n",
       "      <td>New York City</td>\n",
       "      <td>New York</td>\n",
       "      <td>NaN</td>\n",
       "      <td>2</td>\n",
       "      <td>0</td>\n",
       "    </tr>\n",
       "    <tr>\n",
       "      <th>2020-03-04</th>\n",
       "      <td>New York City</td>\n",
       "      <td>New York</td>\n",
       "      <td>NaN</td>\n",
       "      <td>2</td>\n",
       "      <td>0</td>\n",
       "    </tr>\n",
       "    <tr>\n",
       "      <th>2020-03-05</th>\n",
       "      <td>New York City</td>\n",
       "      <td>New York</td>\n",
       "      <td>NaN</td>\n",
       "      <td>4</td>\n",
       "      <td>0</td>\n",
       "    </tr>\n",
       "  </tbody>\n",
       "</table>\n",
       "</div>"
      ],
      "text/plain": [
       "                   county     state  fips  cases  deaths\n",
       "date                                                    \n",
       "2020-03-01  New York City  New York   NaN      1       0\n",
       "2020-03-02  New York City  New York   NaN      1       0\n",
       "2020-03-03  New York City  New York   NaN      2       0\n",
       "2020-03-04  New York City  New York   NaN      2       0\n",
       "2020-03-05  New York City  New York   NaN      4       0"
      ]
     },
     "execution_count": 35,
     "metadata": {},
     "output_type": "execute_result"
    }
   ],
   "source": [
    "# Getting ny_city_df from counties_group\n",
    "for county, county_df in counties_group:\n",
    "    if county == 'New York City':\n",
    "        ny_city_df = county_df\n",
    "        \n",
    "ny_city_df.head()"
   ]
  },
  {
   "cell_type": "code",
   "execution_count": 36,
   "metadata": {},
   "outputs": [
    {
     "data": {
      "text/html": [
       "<div>\n",
       "<style scoped>\n",
       "    .dataframe tbody tr th:only-of-type {\n",
       "        vertical-align: middle;\n",
       "    }\n",
       "\n",
       "    .dataframe tbody tr th {\n",
       "        vertical-align: top;\n",
       "    }\n",
       "\n",
       "    .dataframe thead th {\n",
       "        text-align: right;\n",
       "    }\n",
       "</style>\n",
       "<table border=\"1\" class=\"dataframe\">\n",
       "  <thead>\n",
       "    <tr style=\"text-align: right;\">\n",
       "      <th></th>\n",
       "      <th>county</th>\n",
       "      <th>state</th>\n",
       "      <th>fips</th>\n",
       "      <th>cases</th>\n",
       "      <th>deaths</th>\n",
       "    </tr>\n",
       "    <tr>\n",
       "      <th>date</th>\n",
       "      <th></th>\n",
       "      <th></th>\n",
       "      <th></th>\n",
       "      <th></th>\n",
       "      <th></th>\n",
       "    </tr>\n",
       "  </thead>\n",
       "  <tbody>\n",
       "    <tr>\n",
       "      <th>2020-08-04</th>\n",
       "      <td>New York City</td>\n",
       "      <td>New York</td>\n",
       "      <td>NaN</td>\n",
       "      <td>230964</td>\n",
       "      <td>23027</td>\n",
       "    </tr>\n",
       "    <tr>\n",
       "      <th>2020-08-05</th>\n",
       "      <td>New York City</td>\n",
       "      <td>New York</td>\n",
       "      <td>NaN</td>\n",
       "      <td>231268</td>\n",
       "      <td>23034</td>\n",
       "    </tr>\n",
       "    <tr>\n",
       "      <th>2020-08-06</th>\n",
       "      <td>New York City</td>\n",
       "      <td>New York</td>\n",
       "      <td>NaN</td>\n",
       "      <td>231600</td>\n",
       "      <td>23563</td>\n",
       "    </tr>\n",
       "    <tr>\n",
       "      <th>2020-08-07</th>\n",
       "      <td>New York City</td>\n",
       "      <td>New York</td>\n",
       "      <td>NaN</td>\n",
       "      <td>231942</td>\n",
       "      <td>23567</td>\n",
       "    </tr>\n",
       "    <tr>\n",
       "      <th>2020-08-08</th>\n",
       "      <td>New York City</td>\n",
       "      <td>New York</td>\n",
       "      <td>NaN</td>\n",
       "      <td>232271</td>\n",
       "      <td>23575</td>\n",
       "    </tr>\n",
       "  </tbody>\n",
       "</table>\n",
       "</div>"
      ],
      "text/plain": [
       "                   county     state  fips   cases  deaths\n",
       "date                                                     \n",
       "2020-08-04  New York City  New York   NaN  230964   23027\n",
       "2020-08-05  New York City  New York   NaN  231268   23034\n",
       "2020-08-06  New York City  New York   NaN  231600   23563\n",
       "2020-08-07  New York City  New York   NaN  231942   23567\n",
       "2020-08-08  New York City  New York   NaN  232271   23575"
      ]
     },
     "execution_count": 36,
     "metadata": {},
     "output_type": "execute_result"
    }
   ],
   "source": [
    "ny_city_df.tail()"
   ]
  },
  {
   "cell_type": "markdown",
   "execution_count": null,
   "metadata": {},
   "source": [
    "### **⏳ Doing Time Series Analysis**"
   ]
  },
  {
   "cell_type": "markdown",
   "execution_count": null,
   "metadata": {},
   "source": [
    "#### **🗓 Dates: 01 March 2020 to 08 August 2020**"
   ]
  },
  {
   "cell_type": "markdown",
   "execution_count": null,
   "metadata": {},
   "source": [
    "### **Average of weekly cases in New York City**"
   ]
  },
  {
   "cell_type": "code",
   "execution_count": 37,
   "metadata": {},
   "outputs": [
    {
     "data": {
      "text/plain": [
       "Text(0, 0.5, 'Cases')"
      ]
     },
     "execution_count": 37,
     "metadata": {},
     "output_type": "execute_result"
    },
    {
     "data": {
      "image/png": "[encoded data removed]",
      "text/plain": [
       "<Figure size 864x288 with 1 Axes>"
      ]
     },
     "metadata": {
      "needs_background": "light"
     },
     "output_type": "display_data"
    }
   ],
   "source": [
    "fig = plt.figure(figsize=(12, 4))\n",
    "\n",
    "# Resampling cases on 'Weekly' frequency & then taking its average\n",
    "ny_city_df.cases.resample('W').mean().plot(colormap=plt.cm.RdYlGn, grid=False)\n",
    "plt.xlabel('Average of weekly cases in New York City')\n",
    "plt.ylabel('Cases')"
   ]
  },
  {
   "cell_type": "markdown",
   "execution_count": null,
   "metadata": {},
   "source": [
    "### **Average of weekly deaths in New York City**"
   ]
  },
  {
   "cell_type": "code",
   "execution_count": 38,
   "metadata": {},
   "outputs": [
    {
     "data": {
      "text/plain": [
       "Text(0, 0.5, 'Cases')"
      ]
     },
     "execution_count": 38,
     "metadata": {},
     "output_type": "execute_result"
    },
    {
     "data": {
      "image/png": "[encoded data removed]",
      "text/plain": [
       "<Figure size 864x288 with 1 Axes>"
      ]
     },
     "metadata": {
      "needs_background": "light"
     },
     "output_type": "display_data"
    }
   ],
   "source": [
    "fig = plt.figure(figsize=(12, 4))\n",
    "\n",
    "# Resampling deaths on 'Weekly' frequency & then taking its average\n",
    "ny_city_df.deaths.resample('W').mean().plot(colormap=plt.cm.cividis, grid=False)\n",
    "plt.xlabel('Average of weekly cases in New York City')\n",
    "plt.ylabel('Cases')"
   ]
  },
  {
   "cell_type": "markdown",
   "execution_count": null,
   "metadata": {},
   "source": [
    "### **Deaths/Cases Ratio (in New York City)**"
   ]
  },
  {
   "cell_type": "code",
   "execution_count": 39,
   "metadata": {},
   "outputs": [
    {
     "data": {
      "text/plain": [
       "'Deaths to Cases ratio: 9.912%'"
      ]
     },
     "execution_count": 39,
     "metadata": {},
     "output_type": "execute_result"
    }
   ],
   "source": [
    "ratio = round(ny_city_df.deaths.sum() / ny_city_df.cases.sum() * 100, 3)\n",
    "f'Deaths to Cases ratio: {ratio}%'"
   ]
  },
  {
   "cell_type": "markdown",
   "execution_count": null,
   "metadata": {},
   "source": [
    "---"
   ]
  }
 ],
 "metadata": {
  "kernelspec": {
   "display_name": "Python 3",
   "language": "python",
   "name": "python3"
  },
  "language_info": {
   "codemirror_mode": {
    "name": "ipython",
    "version": 3
   },
   "file_extension": ".py",
   "mimetype": "text/x-python",
   "name": "python",
   "nbconvert_exporter": "python",
   "pygments_lexer": "ipython3",
   "version": "3.7.6"
  }
 },
 "nbformat": 4,
 "nbformat_minor": 4
}
